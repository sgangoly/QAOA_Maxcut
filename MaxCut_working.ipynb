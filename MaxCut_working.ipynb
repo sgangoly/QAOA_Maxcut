{
 "cells": [
  {
   "cell_type": "markdown",
   "metadata": {},
   "source": [
    "# Solving MaxCut on a weighted graph with QVM"
   ]
  },
  {
   "cell_type": "code",
   "execution_count": 217,
   "metadata": {},
   "outputs": [],
   "source": [
    "#Maxcut by QAOA\n",
    "import numpy as np\n",
    "import pyquil.api as api\n",
    "from pyquil.paulis import PauliTerm, PauliSum\n",
    "import networkx as nx\n",
    "from scipy.optimize import minimize\n",
    "from grove.pyqaoa.qaoa import QAOA\n",
    "qvm_connection = api.QVMConnection()\n",
    "\n",
    "\n",
    "def print_fun(x):\n",
    "    print(x)\n",
    "\n",
    "\n",
    "def maxcut_qaoa(graph, weight, steps=2, rand_seed=None, connection=None, samples=None,\n",
    "                initial_beta=None, initial_gamma=None, minimizer_kwargs=None,\n",
    "                vqe_option=None):\n",
    "    \n",
    "    if not isinstance(graph, nx.Graph) and isinstance(graph, list):\n",
    "        maxcut_graph = nx.Graph()\n",
    "        for edge in graph:\n",
    "            maxcut_graph.add_edge(*edge)\n",
    "        graph = maxcut_graph.copy()\n",
    "\n",
    "    cost_operators = []\n",
    "    driver_operators = []\n",
    "    for i, j in graph.edges():\n",
    "        cost_operators.append(PauliTerm(\"Z\", i, 0.5*(weight[i][j]))*PauliTerm(\"Z\", j) + PauliTerm(\"I\", 0, -0.5))\n",
    "    for i in graph.nodes():\n",
    "        driver_operators.append(PauliSum([PauliTerm(\"X\", i, -1.0)]))\n",
    "\n",
    "    if connection is None:\n",
    "        connection = qvm_connection\n",
    "\n",
    "    if minimizer_kwargs is None:\n",
    "        minimizer_kwargs = {'method': 'Nelder-Mead',\n",
    "                            'options': {'ftol': 1.0e-2, 'xtol': 1.0e-2,\n",
    "                                        'disp': False}}\n",
    "    if vqe_option is None:\n",
    "        vqe_option = {'disp': print_fun, 'return_all': True,\n",
    "                      'samples': samples}\n",
    "\n",
    "    qaoa_inst = QAOA(connection, list(graph.nodes()), steps=steps, cost_ham=cost_operators,\n",
    "                     ref_ham=driver_operators, store_basis=True,\n",
    "                     rand_seed=rand_seed,\n",
    "                     init_betas=initial_beta,\n",
    "                     init_gammas=initial_gamma,\n",
    "                     minimizer=minimize,\n",
    "                     minimizer_kwargs=minimizer_kwargs,\n",
    "                     vqe_options=vqe_option)\n",
    "\n",
    "    return qaoa_inst"
   ]
  },
  {
   "cell_type": "markdown",
   "metadata": {},
   "source": [
    "## Example-1"
   ]
  },
  {
   "cell_type": "code",
   "execution_count": 273,
   "metadata": {},
   "outputs": [],
   "source": [
    "import random\n",
    "\n",
    "# importing networkx \n",
    "import networkx as nx \n",
    "# importing matplotlib.pyplot \n",
    "import matplotlib.pyplot as plt\n",
    "\n",
    "#Generate a random adjacency matrix for a weighted graph\n",
    "def random_adjacency_matrix(n):\n",
    "    import numpy as np\n",
    "\n",
    "    weight = [[random.randint(0, 2) for i in range(n)] for j in range(n)]\n",
    "\n",
    "    # No vertex connects to itself\n",
    "    for i in range(n):\n",
    "        weight[i][i] = 0\n",
    "\n",
    "    # If i is connected to j, j is connected to i\n",
    "    for i in range(n):\n",
    "        for j in range(n):\n",
    "            weight[j][i] = weight[i][j]\n",
    "            \n",
    "    print(np.matrix(weight))\n",
    "    \n",
    "    A = weight\n",
    "    G = nx.from_numpy_matrix(np.matrix(A), create_using=nx.DiGraph)\n",
    "    layout = nx.spring_layout(G)\n",
    "    nx.draw(G, layout,  with_labels = True, node_color=['green'], node_size=1200, alpha=1)\n",
    "    nx.draw_networkx_edge_labels(G, pos=layout, font_color='black', font_weight='bold')\n",
    "    #nx.draw_networkx_edges(G, pos=layout, arrows=False, label='w')\n",
    "    plt.show()\n",
    "    return weight"
   ]
  },
  {
   "cell_type": "code",
   "execution_count": 280,
   "metadata": {
    "scrolled": false
   },
   "outputs": [
    {
     "name": "stdout",
     "output_type": "stream",
     "text": [
      "[[0 1 2 2]\n",
      " [1 0 2 0]\n",
      " [2 2 0 1]\n",
      " [2 0 1 0]]\n"
     ]
    },
    {
     "data": {
      "image/png": "[encoded data removed]",
      "text/plain": [
       "<Figure size 432x288 with 1 Axes>"
      ]
     },
     "metadata": {},
     "output_type": "display_data"
    },
    {
     "name": "stdout",
     "output_type": "stream",
     "text": [
      "WARNING: Fast method for expectation will be used. Noise\n",
      "                     models will be ineffective\n",
      "\tParameters: [0.74341461 1.39845321 1.66538463 2.5835973 ] \n",
      "\tE => -5.555671755400308\n",
      "\tParameters: [0.74341461 1.39845321 1.66538463 2.5835973 ] \n",
      "\tE => -4.995376930766383\n",
      "\tParameters: [0.78120112 1.39359747 1.6371684  2.37251273] \n",
      "\tE => -6.377117053998175\n",
      "\tParameters: [0.78120112 1.39359747 1.6371684  2.37251273] \n",
      "\tE => -6.339294461440377\n",
      "\tParameters: [0.8216117  1.29344782 1.7374144  2.33007695] \n",
      "\tE => -7.052968728396687\n",
      "\tParameters: [0.81673094 1.1723578  1.73604277 2.41233427] \n",
      "\tE => -7.54419802332616\n",
      "\tParameters: [0.81673094 1.1723578  1.73604277 2.41233427] \n",
      "\tE => -6.991696305222257\n",
      "\tParameters: [0.81673094 1.1723578  1.73604277 2.41233427] \n",
      "\tE => -7.2579778190608675\n",
      "\tParameters: [0.85553086 1.13134718 1.78569642 2.37860328] \n",
      "\tE => -8.312591001832688\n",
      "\tParameters: [0.80706014 1.16918485 1.79931459 2.5281814 ] \n",
      "\tE => -8.781017616583068\n",
      "\tParameters: [0.80706014 1.16918485 1.79931459 2.5281814 ] \n",
      "\tE => -8.207430287542842\n",
      "\tParameters: [0.80706014 1.16918485 1.79931459 2.5281814 ] \n",
      "\tE => -8.773576935594486\n",
      "\tParameters: [0.80706014 1.16918485 1.79931459 2.5281814 ] \n",
      "\tE => -8.592766427162788\n",
      "\tParameters: [0.85089802 1.10183814 1.86536814 2.42300465] \n",
      "\tE => -8.52856686954319\n",
      "\tParameters: [0.85089802 1.10183814 1.86536814 2.42300465] \n",
      "\tE => -8.985563804459577\n",
      "\tParameters: [0.85089802 1.10183814 1.86536814 2.42300465] \n",
      "\tE => -9.003620857144593\n",
      "\tParameters: [0.83478898 1.17934226 1.83513238 2.46934949] \n",
      "\tE => -9.219435833729122\n",
      "\tParameters: [0.83478898 1.17934226 1.83513238 2.46934949] \n",
      "\tE => -9.100491736539162\n",
      "\tParameters: [0.84715764 1.11630435 1.88558747 2.47755984] \n",
      "\tE => -9.179522445312406\n",
      "\tParameters: [0.84715764 1.11630435 1.88558747 2.47755984] \n",
      "\tE => -9.228913953233201\n",
      "\tParameters: [0.84157779 1.14514845 1.84575511 2.50401043] \n",
      "\tE => -9.110858825830285\n",
      "\tParameters: [0.84157779 1.14514845 1.84575511 2.50401043] \n",
      "\tE => -9.29113636811811\n",
      "\tParameters: [0.84387763 1.1746895  1.86293396 2.47236821] \n",
      "\tE => -9.43185806389005\n",
      "\tParameters: [0.84387763 1.1746895  1.86293396 2.47236821] \n",
      "\tE => -9.34713156127834\n",
      "\tParameters: [0.84387763 1.1746895  1.86293396 2.47236821] \n",
      "\tE => -9.33011741449451\n",
      "\tParameters: [0.84387763 1.1746895  1.86293396 2.47236821] \n",
      "\tE => -9.40014637733328\n",
      "\tParameters: [0.84387763 1.1746895  1.86293396 2.47236821] \n",
      "\tE => -9.403714493960617\n",
      "\tParameters: [0.84387763 1.1746895  1.86293396 2.47236821] \n",
      "\tE => -9.369190946617595\n",
      "\tParameters: [0.84387763 1.1746895  1.86293396 2.47236821] \n",
      "\tE => -9.410725800212001\n",
      "\tParameters: [0.84387763 1.1746895  1.86293396 2.47236821] \n",
      "\tE => -9.40293007198997\n",
      "\tParameters: [0.84466892 1.1890107  1.88589966 2.47553616] \n",
      "\tE => -9.410764228255578\n",
      "\tParameters: [0.85426374 1.13656523 1.87487405 2.47003942] \n",
      "\tE => -9.388734168642861\n",
      "\tParameters: [0.85426374 1.13656523 1.87487405 2.47003942] \n",
      "\tE => -9.452330426964949\n",
      "\tParameters: [0.85426374 1.13656523 1.87487405 2.47003942] \n",
      "\tE => -9.451437093939855\n",
      "\tParameters: [0.85027281 1.15822431 1.88386485 2.48702545] \n",
      "\tE => -9.452786366255333\n",
      "\tParameters: [0.85027281 1.15822431 1.88386485 2.48702545] \n",
      "\tE => -9.478406186923495\n",
      "\tParameters: [0.85332172 1.1829295  1.87718677 2.46414333] \n",
      "\tE => -9.508863710389555\n",
      "\tParameters: [0.85332172 1.1829295  1.87718677 2.46414333] \n",
      "\tE => -9.484542029555163\n",
      "\tParameters: [0.84908594 1.18838205 1.87235425 2.48554361] \n",
      "\tE => -9.464217188240143\n",
      "\tParameters: [0.86562384 1.15407224 1.88931481 2.46849512] \n",
      "\tE => -9.557788855624352\n",
      "\tParameters: [0.86234715 1.17254065 1.86848495 2.46042111] \n",
      "\tE => -9.548761778619246\n",
      "\tParameters: [0.86234715 1.17254065 1.86848495 2.46042111] \n",
      "\tE => -9.542487770810585\n",
      "\tParameters: [0.86949009 1.16562366 1.87999015 2.48214872] \n",
      "\tE => -9.62881646102311\n",
      "\tParameters: [0.86949009 1.16562366 1.87999015 2.48214872] \n",
      "\tE => -9.602453014071768\n",
      "\tParameters: [0.86949009 1.16562366 1.87999015 2.48214872] \n",
      "\tE => -9.588250432092142\n",
      "\tParameters: [0.88669313 1.15871161 1.85881918 2.45917633] \n",
      "\tE => -9.686673829779462\n",
      "\tParameters: [0.88669313 1.15871161 1.85881918 2.45917633] \n",
      "\tE => -9.668829268169944\n",
      "\tParameters: [0.88695706 1.19850863 1.87278838 2.46620853] \n",
      "\tE => -9.741201661212088\n",
      "\tParameters: [0.8905915  1.17275253 1.86058338 2.48558471] \n",
      "\tE => -9.752907009108188\n",
      "\tParameters: [0.93054086 1.16506891 1.84789892 2.4462304 ] \n",
      "\tE => -9.82626254750528\n",
      "\tParameters: [0.93054086 1.16506891 1.84789892 2.4462304 ] \n",
      "\tE => -9.744507279282967\n",
      "\tParameters: [0.93438449 1.24662831 1.84461232 2.47431438] \n",
      "\tE => -9.874259209604421\n",
      "\tParameters: [0.93438449 1.24662831 1.84461232 2.47431438] \n",
      "\tE => -9.862337845545158\n",
      "\tParameters: [0.94645543 1.17727903 1.8521291  2.47734353] \n",
      "\tE => -9.890057155825957\n",
      "\tParameters: [0.94645543 1.17727903 1.8521291  2.47734353] \n",
      "\tE => -9.884309365571726\n",
      "\tParameters: [0.94645543 1.17727903 1.8521291  2.47734353] \n",
      "\tE => -9.909768837872809\n",
      "\tParameters: [0.97303968 1.23936905 1.85262402 2.47081882] \n",
      "\tE => -9.90672562097022\n",
      "\tParameters: [0.97303968 1.23936905 1.85262402 2.47081882] \n",
      "\tE => -9.908091839618045\n",
      "\tParameters: [0.97303968 1.23936905 1.85262402 2.47081882] \n",
      "\tE => -9.930254517819554\n",
      "\tParameters: [0.97967304 1.20172363 1.84096169 2.47056579] \n",
      "\tE => -9.956552425648319\n",
      "\tParameters: [0.96385112 1.18873292 1.86316567 2.48004372] \n",
      "\tE => -9.959313844178459\n",
      "\tParameters: [0.96385112 1.18873292 1.86316567 2.48004372] \n",
      "\tE => -9.950760476447794\n",
      "\tParameters: [0.9598415  1.19295166 1.85108831 2.47300767] \n",
      "\tE => -9.965665976678883\n",
      "\tParameters: [0.97272389 1.20518293 1.84769933 2.46343395] \n",
      "\tE => -9.969226390766295\n",
      "\tParameters: [0.97103103 1.21825842 1.85167638 2.4712908 ] \n",
      "\tE => -9.973786357876028\n",
      "\tParameters: [0.97103103 1.21825842 1.85167638 2.4712908 ] \n",
      "\tE => -9.96781046693603\n",
      "\tParameters: [0.97103103 1.21825842 1.85167638 2.4712908 ] \n",
      "\tE => -9.971727332895796\n",
      "\tParameters: [0.97112706 1.21744893 1.86083737 2.4685927 ] \n",
      "\tE => -9.96178192985303\n",
      "\tParameters: [0.96190205 1.20509601 1.86028103 2.47147004] \n",
      "\tE => -9.975763052134077\n",
      "\tParameters: [0.96190205 1.20509601 1.86028103 2.47147004] \n",
      "\tE => -9.975756795211884\n",
      "\tParameters: [0.96630898 1.20426779 1.85750769 2.47243734] \n",
      "\tE => -9.976414844004207\n",
      "\tParameters: [0.96916851 1.21338792 1.85476356 2.47064921] \n",
      "\tE => -9.976654047694067\n"
     ]
    }
   ],
   "source": [
    "inst = maxcut_qaoa(G, random_adjacency_matrix(4), steps=2, rand_seed=50, samples=None)\n",
    "betas, gammas = inst.get_angles()\n"
   ]
  },
  {
   "cell_type": "code",
   "execution_count": 289,
   "metadata": {},
   "outputs": [
    {
     "name": "stdout",
     "output_type": "stream",
     "text": [
      "beta= [0.96916851 1.21338792] gamma= [1.85476356 2.47064921]\n"
     ]
    }
   ],
   "source": [
    "print('beta=',betas, 'gamma=',gammas)"
   ]
  },
  {
   "cell_type": "code",
   "execution_count": 281,
   "metadata": {},
   "outputs": [
    {
     "name": "stdout",
     "output_type": "stream",
     "text": [
      "0000 [0.00279614+0.j]\n",
      "0001 [0.00196019+0.j]\n",
      "0010 [0.00196019+0.j]\n",
      "0011 [0.06697823+0.j]\n",
      "0100 [0.00196019+0.j]\n",
      "0101 [0.40198964+0.j]\n",
      "0110 [0.02039523+0.j]\n",
      "0111 [0.00196019+0.j]\n",
      "1000 [0.00196019+0.j]\n",
      "1001 [0.02039523+0.j]\n",
      "1010 [0.40198964+0.j]\n",
      "1011 [0.00196019+0.j]\n",
      "1100 [0.06697823+0.j]\n",
      "1101 [0.00196019+0.j]\n",
      "1110 [0.00196019+0.j]\n",
      "1111 [0.00279614+0.j]\n",
      "Most frequent bitstring from sampling\n",
      "(1, 0, 1, 0)\n"
     ]
    }
   ],
   "source": [
    "state_v=[]\n",
    "prob_v=[]\n",
    "probs = inst.probabilities(np.hstack((betas, gammas)))\n",
    "\n",
    "for state, prob in zip(inst.states, probs):\n",
    "    state_v.append(state)\n",
    "    prob_v.append(prob)\n",
    "    print(state, prob)\n",
    "\n",
    "print(\"Most frequent bitstring from sampling\")\n",
    "most_freq_string, sampling_results = inst.get_string(betas, gammas)\n",
    "print(most_freq_string)"
   ]
  },
  {
   "cell_type": "code",
   "execution_count": 288,
   "metadata": {},
   "outputs": [],
   "source": [
    "new1=np.concatenate( probs, axis=0 )\n",
    "from array import *\n",
    "new2=new1.tolist()"
   ]
  },
  {
   "cell_type": "code",
   "execution_count": 287,
   "metadata": {},
   "outputs": [
    {
     "data": {
      "text/plain": [
       "<BarContainer object of 16 artists>"
      ]
     },
     "execution_count": 287,
     "metadata": {},
     "output_type": "execute_result"
    },
    {
     "data": {
      "image/png": "[encoded data removed]",
      "text/plain": [
       "<Figure size 432x288 with 1 Axes>"
      ]
     },
     "metadata": {
      "needs_background": "light"
     },
     "output_type": "display_data"
    }
   ],
   "source": [
    "plt.barh(state_v,new2) "
   ]
  },
  {
   "cell_type": "code",
   "execution_count": 294,
   "metadata": {
    "scrolled": false
   },
   "outputs": [
    {
     "name": "stdout",
     "output_type": "stream",
     "text": [
      "H 0\n",
      "H 1\n",
      "H 2\n",
      "H 3\n",
      "CNOT 0 1\n",
      "RZ(1.854763555864237) 1\n",
      "CNOT 0 1\n",
      "X 0\n",
      "PHASE(0.9273817779321185) 0\n",
      "X 0\n",
      "PHASE(0.9273817779321185) 0\n",
      "CNOT 0 3\n",
      "RZ(3.709527111728474) 3\n",
      "CNOT 0 3\n",
      "X 0\n",
      "PHASE(0.9273817779321185) 0\n",
      "X 0\n",
      "PHASE(0.9273817779321185) 0\n",
      "CNOT 1 0\n",
      "RZ(1.854763555864237) 0\n",
      "CNOT 1 0\n",
      "X 0\n",
      "PHASE(0.9273817779321185) 0\n",
      "X 0\n",
      "PHASE(0.9273817779321185) 0\n",
      "CNOT 1 2\n",
      "RZ(3.709527111728474) 2\n",
      "CNOT 1 2\n",
      "X 0\n",
      "PHASE(0.9273817779321185) 0\n",
      "X 0\n",
      "PHASE(0.9273817779321185) 0\n",
      "X 0\n",
      "PHASE(0.9273817779321185) 0\n",
      "X 0\n",
      "PHASE(0.9273817779321185) 0\n",
      "CNOT 2 1\n",
      "RZ(3.709527111728474) 1\n",
      "CNOT 2 1\n",
      "X 0\n",
      "PHASE(0.9273817779321185) 0\n",
      "X 0\n",
      "PHASE(0.9273817779321185) 0\n",
      "CNOT 2 3\n",
      "RZ(1.854763555864237) 3\n",
      "CNOT 2 3\n",
      "X 0\n",
      "PHASE(0.9273817779321185) 0\n",
      "X 0\n",
      "PHASE(0.9273817779321185) 0\n",
      "CNOT 3 0\n",
      "RZ(3.709527111728474) 0\n",
      "CNOT 3 0\n",
      "X 0\n",
      "PHASE(0.9273817779321185) 0\n",
      "X 0\n",
      "PHASE(0.9273817779321185) 0\n",
      "X 0\n",
      "PHASE(0.9273817779321185) 0\n",
      "X 0\n",
      "PHASE(0.9273817779321185) 0\n",
      "CNOT 3 2\n",
      "RZ(1.854763555864237) 2\n",
      "CNOT 3 2\n",
      "X 0\n",
      "PHASE(0.9273817779321185) 0\n",
      "X 0\n",
      "PHASE(0.9273817779321185) 0\n",
      "H 0\n",
      "RZ(-1.9383370291164916) 0\n",
      "H 0\n",
      "H 1\n",
      "RZ(-1.9383370291164916) 1\n",
      "H 1\n",
      "H 2\n",
      "RZ(-1.9383370291164916) 2\n",
      "H 2\n",
      "H 3\n",
      "RZ(-1.9383370291164916) 3\n",
      "H 3\n",
      "CNOT 0 1\n",
      "RZ(2.470649208769381) 1\n",
      "CNOT 0 1\n",
      "X 0\n",
      "PHASE(1.2353246043846906) 0\n",
      "X 0\n",
      "PHASE(1.2353246043846906) 0\n",
      "CNOT 0 3\n",
      "RZ(4.941298417538762) 3\n",
      "CNOT 0 3\n",
      "X 0\n",
      "PHASE(1.2353246043846906) 0\n",
      "X 0\n",
      "PHASE(1.2353246043846906) 0\n",
      "CNOT 1 0\n",
      "RZ(2.470649208769381) 0\n",
      "CNOT 1 0\n",
      "X 0\n",
      "PHASE(1.2353246043846906) 0\n",
      "X 0\n",
      "PHASE(1.2353246043846906) 0\n",
      "CNOT 1 2\n",
      "RZ(4.941298417538762) 2\n",
      "CNOT 1 2\n",
      "X 0\n",
      "PHASE(1.2353246043846906) 0\n",
      "X 0\n",
      "PHASE(1.2353246043846906) 0\n",
      "X 0\n",
      "PHASE(1.2353246043846906) 0\n",
      "X 0\n",
      "PHASE(1.2353246043846906) 0\n",
      "CNOT 2 1\n",
      "RZ(4.941298417538762) 1\n",
      "CNOT 2 1\n",
      "X 0\n",
      "PHASE(1.2353246043846906) 0\n",
      "X 0\n",
      "PHASE(1.2353246043846906) 0\n",
      "CNOT 2 3\n",
      "RZ(2.470649208769381) 3\n",
      "CNOT 2 3\n",
      "X 0\n",
      "PHASE(1.2353246043846906) 0\n",
      "X 0\n",
      "PHASE(1.2353246043846906) 0\n",
      "CNOT 3 0\n",
      "RZ(4.941298417538762) 0\n",
      "CNOT 3 0\n",
      "X 0\n",
      "PHASE(1.2353246043846906) 0\n",
      "X 0\n",
      "PHASE(1.2353246043846906) 0\n",
      "X 0\n",
      "PHASE(1.2353246043846906) 0\n",
      "X 0\n",
      "PHASE(1.2353246043846906) 0\n",
      "CNOT 3 2\n",
      "RZ(2.470649208769381) 2\n",
      "CNOT 3 2\n",
      "X 0\n",
      "PHASE(1.2353246043846906) 0\n",
      "X 0\n",
      "PHASE(1.2353246043846906) 0\n",
      "H 0\n",
      "RZ(-2.4267758416728786) 0\n",
      "H 0\n",
      "H 1\n",
      "RZ(-2.4267758416728786) 1\n",
      "H 1\n",
      "H 2\n",
      "RZ(-2.4267758416728786) 2\n",
      "H 2\n",
      "H 3\n",
      "RZ(-2.4267758416728786) 3\n",
      "H 3\n",
      "\n",
      "Number of gates: 156\n"
     ]
    }
   ],
   "source": [
    "angles = np.hstack((betas, gammas))\n",
    "param_prog = inst.get_parameterized_program()\n",
    "prog = param_prog(angles)\n",
    "print(prog)\n",
    "print(\"Number of gates:\", len(prog))"
   ]
  },
  {
   "cell_type": "code",
   "execution_count": 295,
   "metadata": {},
   "outputs": [],
   "source": [
    "qubits = [0, 1, 2, 3]\n",
    "\n",
    "measurements = qvm_connection.run_and_measure(prog, qubits, trials=1000)\n"
   ]
  },
  {
   "cell_type": "code",
   "execution_count": 296,
   "metadata": {},
   "outputs": [
    {
     "data": {
      "text/plain": [
       "[((1, 0, 1, 0), 417),\n",
       " ((0, 1, 0, 1), 381),\n",
       " ((0, 0, 1, 1), 77),\n",
       " ((1, 1, 0, 0), 67),\n",
       " ((0, 1, 1, 0), 19),\n",
       " ((1, 0, 0, 1), 16),\n",
       " ((0, 0, 0, 0), 6),\n",
       " ((0, 0, 1, 0), 5),\n",
       " ((1, 0, 1, 1), 3),\n",
       " ((0, 0, 0, 1), 3),\n",
       " ((1, 1, 1, 0), 2),\n",
       " ((1, 0, 0, 0), 1),\n",
       " ((1, 1, 1, 1), 1),\n",
       " ((0, 1, 1, 1), 1),\n",
       " ((1, 1, 0, 1), 1)]"
      ]
     },
     "execution_count": 296,
     "metadata": {},
     "output_type": "execute_result"
    }
   ],
   "source": [
    "from collections import Counter\n",
    "# This is just a hack - we can't use Counter on a list of lists but we can on a list of tuples.\n",
    "measurements = [tuple(measurement) for measurement in measurements]\n",
    "measurements_counter = Counter(measurements)\n",
    "# This line gives us the results in the decreasing order\n",
    "measurements_counter.most_common()"
   ]
  },
  {
   "cell_type": "code",
   "execution_count": 297,
   "metadata": {},
   "outputs": [
    {
     "name": "stdout",
     "output_type": "stream",
     "text": [
      "(-0.0154137142+0.0505821613j)|0000> + (-0.0227179159-0.0380011595j)|0001> + (-0.0227179159-0.0380011595j)|0010> + (0.1532225732-0.2085691026j)|0011> + (-0.0227179159-0.0380011595j)|0100> + (-0.4730605959-0.4221413434j)|0101> + (-0.1347782538-0.0472233911j)|0110> + (-0.0227179159-0.0380011595j)|0111> + (-0.0227179159-0.0380011595j)|1000> + (-0.1347782538-0.0472233911j)|1001> + (-0.4730605959-0.4221413434j)|1010> + (-0.0227179159-0.0380011595j)|1011> + (0.1532225732-0.2085691026j)|1100> + (-0.0227179159-0.0380011595j)|1101> + (-0.0227179159-0.0380011595j)|1110> + (-0.0154137142+0.0505821613j)|1111>\n"
     ]
    }
   ],
   "source": [
    "wf = qvm_connection.wavefunction(prog)\n",
    "print(wf)"
   ]
  },
  {
   "cell_type": "code",
   "execution_count": 300,
   "metadata": {},
   "outputs": [
    {
     "name": "stdout",
     "output_type": "stream",
     "text": [
      "Probability amplitudes for all the possible states:\n",
      "0000 (-0.015413714158862911+0.05058216128099329j)\n",
      "0001 (-0.02271791591970658-0.03800115947991067j)\n",
      "0010 (-0.022717915919706733-0.038001159479910784j)\n",
      "0011 (0.15322257319650132-0.20856910262602069j)\n",
      "0100 (-0.022717915919706705-0.03800115947991076j)\n",
      "0101 (-0.4730605958734503-0.42214134344506893j)\n",
      "0110 (-0.13477825375268992-0.04722339111290287j)\n",
      "0111 (-0.02271791591970662-0.038001159479910944j)\n",
      "1000 (-0.02271791591970662-0.038001159479910944j)\n",
      "1001 (-0.13477825375268992-0.04722339111290287j)\n",
      "1010 (-0.4730605958734503-0.42214134344506893j)\n",
      "1011 (-0.022717915919706705-0.03800115947991076j)\n",
      "1100 (0.15322257319650132-0.20856910262602069j)\n",
      "1101 (-0.022717915919706733-0.038001159479910784j)\n",
      "1110 (-0.02271791591970658-0.03800115947991067j)\n",
      "1111 (-0.015413714158862911+0.05058216128099329j)\n"
     ]
    }
   ],
   "source": [
    "print(\"Probability amplitudes for all the possible states:\")\n",
    "for state_index in range(inst.nstates):\n",
    "    print(inst.states[state_index], wf[state_index])"
   ]
  },
  {
   "cell_type": "code",
   "execution_count": 303,
   "metadata": {},
   "outputs": [
    {
     "name": "stdout",
     "output_type": "stream",
     "text": [
      "Probabilities of measuring given states:\n",
      "0000 0.0027961376240275477\n",
      "0001 0.0019601918255524623\n",
      "0010 0.001960191825552478\n",
      "0011 0.06697822750718076\n",
      "0100 0.0019601918255524745\n",
      "0101 0.40198964121375147\n",
      "0110 0.02039522635282667\n",
      "0111 0.001960191825552485\n",
      "1000 0.001960191825552485\n",
      "1001 0.02039522635282667\n",
      "1010 0.40198964121375147\n",
      "1011 0.0019601918255524745\n",
      "1100 0.06697822750718076\n",
      "1101 0.001960191825552478\n",
      "1110 0.0019601918255524623\n",
      "1111 0.0027961376240275477\n"
     ]
    }
   ],
   "source": [
    "print(\"Probabilities of measuring given states:\")\n",
    "states_with_probs = []\n",
    "for state_index in range(inst.nstates):\n",
    "    states_with_probs.append([inst.states[state_index], np.real(np.conj(wf[state_index])*wf[state_index])])\n",
    "    print(states_with_probs[-1][0], states_with_probs[-1][1])"
   ]
  },
  {
   "cell_type": "code",
   "execution_count": 304,
   "metadata": {},
   "outputs": [],
   "source": [
    "%matplotlib inline\n",
    "import matplotlib.pyplot as plt\n",
    "\n",
    "def plot_state_histogram(states_with_probs):\n",
    "    states = np.array(states_with_probs)[:,0]\n",
    "    probs = np.array(states_with_probs)[:,1].astype(float)\n",
    "    n = len(states_with_probs)\n",
    "    plt.barh(range(n), probs, tick_label=states)\n",
    "    plt.show()"
   ]
  },
  {
   "cell_type": "code",
   "execution_count": 305,
   "metadata": {},
   "outputs": [
    {
     "data": {
      "image/png": "[encoded data removed]",
      "text/plain": [
       "<Figure size 432x288 with 1 Axes>"
      ]
     },
     "metadata": {
      "needs_background": "light"
     },
     "output_type": "display_data"
    }
   ],
   "source": [
    "plot_state_histogram(states_with_probs)"
   ]
  },
  {
   "cell_type": "code",
   "execution_count": null,
   "metadata": {},
   "outputs": [],
   "source": []
  }
 ],
 "metadata": {
  "kernelspec": {
   "display_name": "Python 3",
   "language": "python",
   "name": "python3"
  },
  "language_info": {
   "codemirror_mode": {
    "name": "ipython",
    "version": 3
   },
   "file_extension": ".py",
   "mimetype": "text/x-python",
   "name": "python",
   "nbconvert_exporter": "python",
   "pygments_lexer": "ipython3",
   "version": "3.7.6"
  },
  "latex_envs": {
   "LaTeX_envs_menu_present": true,
   "autoclose": true,
   "autocomplete": true,
   "bibliofile": "biblio.bib",
   "cite_by": "apalike",
   "current_citInitial": 1,
   "eqLabelWithNumbers": true,
   "eqNumInitial": 1,
   "hotkeys": {
    "equation": "Ctrl-E",
    "itemize": "Ctrl-I"
   },
   "labels_anchors": false,
   "latex_user_defs": false,
   "report_style_numbering": false,
   "user_envs_cfg": false
  },
  "toc": {
   "base_numbering": 1,
   "nav_menu": {},
   "number_sections": true,
   "sideBar": true,
   "skip_h1_title": false,
   "title_cell": "Table of Contents",
   "title_sidebar": "Contents",
   "toc_cell": false,
   "toc_position": {},
   "toc_section_display": true,
   "toc_window_display": false
  }
 },
 "nbformat": 4,
 "nbformat_minor": 4
}
