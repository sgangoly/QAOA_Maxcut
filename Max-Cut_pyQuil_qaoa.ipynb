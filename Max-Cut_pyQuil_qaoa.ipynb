{
 "cells": [
  {
   "attachments": {
    "image.png": {
     "image/png": "[encoded data removed]"
    }
   },
   "cell_type": "markdown",
   "metadata": {},
   "source": [
    "## QAOA for Max-Cut\n",
    "\n",
    "\n",
    "1. Define constraints with an arbitray graph :\n",
    "![image.png](attachment:image.png)\n",
    "\n",
    "2. Define a Hamiltonian Cost function:\n",
    "![image.png](attachment:image.png)\n",
    "\n",
    "#### References:\n",
    "\n",
    "     1. https://grove-docs.readthedocs.io/en/latest/qaoa.html\n",
    "     2. https://github.com/rigetti/grove/blob/master/grove/pyqaoa/maxcut_qaoa.py#L89\n",
    "     3. VQE Tutorial: https://github.com/DavitKhach/quantum-algorithms-tutorials\n",
    "     \n",
    "\n",
    "\n",
    "#### Acknowledgment: Many Thanks to Amy Brown of Rigetti for pointers to the grove and VQE repository.\n",
    "\n",
    "### Notes and comments: The following code needs to be cleaned up and properly commented which I have been unable to do due to lack of time in meeting the deadline.\n"
   ]
  },
  {
   "cell_type": "code",
   "execution_count": 102,
   "metadata": {},
   "outputs": [],
   "source": [
    "from pyquil import Program, get_qc\n",
    "from pyquil.gates import *\n",
    "import networkx as nx\n",
    "import numpy as np\n",
    "from pyquil.paulis import PauliTerm, PauliSum\n",
    "from scipy.optimize import minimize\n",
    "from grove.pyqaoa.maxcut_qaoa import maxcut_qaoa\n",
    "from pyquil.api import WavefunctionSimulator\n",
    "from pyquil.gates import H\n",
    "from pyquil.paulis import sI, sX, sZ, exponentiate_commuting_pauli_sum\n",
    "import pyquil.api as api\n",
    "qvm_connection = api.QVMConnection()"
   ]
  },
  {
   "cell_type": "code",
   "execution_count": 106,
   "metadata": {},
   "outputs": [],
   "source": [
    "# Test Connectivity to QVM\n",
    "\n",
    "from pyquil.api import local_qvm\n",
    "\n",
    "prog = Program(Z(0), CNOT(0, 1))\n",
    "\n",
    "with local_qvm():\n",
    "    results = qvm.run_and_measure(prog, trials=10)"
   ]
  },
  {
   "cell_type": "code",
   "execution_count": 107,
   "metadata": {},
   "outputs": [],
   "source": [
    "# construct a Bell State program\n",
    "p = Program(H(0), CNOT(0, 1))"
   ]
  },
  {
   "cell_type": "code",
   "execution_count": 108,
   "metadata": {},
   "outputs": [
    {
     "name": "stdout",
     "output_type": "stream",
     "text": [
      "[0 1 1 1 1 1 1 1 0 0]\n",
      "[0 1 1 1 1 1 1 1 0 0]\n"
     ]
    }
   ],
   "source": [
    "# Test: run the program on a QVM\n",
    "qc = get_qc('9q-square-qvm')\n",
    "result = qc.run_and_measure(p, trials=10)\n",
    "print(result[0])\n",
    "print(result[1])"
   ]
  },
  {
   "cell_type": "code",
   "execution_count": 109,
   "metadata": {},
   "outputs": [],
   "source": [
    "import itertools\n",
    "from pyquil.quil import Program\n",
    "from pyquil.paulis import sZ, sX, sI, exponential_map\n"
   ]
  },
  {
   "cell_type": "code",
   "execution_count": 110,
   "metadata": {},
   "outputs": [],
   "source": [
    "# Create a 4-node array graph: 0-1-2-3.\n",
    "graph = [(0, 1), (1, 2), (2, 3),(3,1)]\n",
    "# Nodes [0, 1, 2, 3].\n",
    "nodes = range(4)"
   ]
  },
  {
   "cell_type": "code",
   "execution_count": 111,
   "metadata": {},
   "outputs": [],
   "source": [
    "# Create the initial state program, a sum over all bitstrings, via Hadamards on all qubits.\n",
    "init_state_prog = Program([H(i) for i in nodes])\n"
   ]
  },
  {
   "cell_type": "code",
   "execution_count": 112,
   "metadata": {},
   "outputs": [],
   "source": [
    "cost_ham = sum(0.5 * sZ(i) * sZ(j) - 0.5*sI(0) for i, j in graph)\n",
    "driver_ham = sum(-1. * sX(i) for i in nodes)"
   ]
  },
  {
   "cell_type": "code",
   "execution_count": 113,
   "metadata": {},
   "outputs": [],
   "source": [
    "def qaoa_ansatz(gammas, betas):\n",
    "    \"\"\"\n",
    "    Function that returns a QAOA ansatz program for a list of angles betas and gammas. len(betas) ==\n",
    "    len(gammas) == P for a QAOA program of order P.\n",
    "    :param list(float) gammas: Angles over which to parameterize the cost Hamiltonian.\n",
    "    :param list(float) betas: Angles over which to parameterize the driver Hamiltonian.\n",
    "    :return: The QAOA ansatz program.\n",
    "    :rtype: Program.\n",
    "    \"\"\"\n",
    "    return Program(\n",
    "        [\n",
    "            exponentiate_commuting_pauli_sum(cost_ham)(g)\n",
    "            + exponentiate_commuting_pauli_sum(driver_ham)(b)\n",
    "            for g, b in zip(gammas, betas)\n",
    "        ]\n",
    "    )"
   ]
  },
  {
   "cell_type": "code",
   "execution_count": 114,
   "metadata": {},
   "outputs": [],
   "source": [
    "# Create a program, the state initialization plus a QAOA ansatz program, for P = 2.\n",
    "program = init_state_prog + qaoa_ansatz([0.0, 0.5], [0.75, 1.0])"
   ]
  },
  {
   "cell_type": "code",
   "execution_count": 115,
   "metadata": {},
   "outputs": [
    {
     "name": "stdout",
     "output_type": "stream",
     "text": [
      "{0: array([1, 1, 0, 1, 0, 0]), 1: array([0, 1, 0, 0, 1, 0]), 2: array([0, 1, 0, 0, 1, 1]), 3: array([0, 1, 0, 0, 0, 0]), 4: array([0, 0, 0, 0, 0, 0]), 5: array([0, 0, 0, 0, 0, 0]), 6: array([0, 0, 0, 0, 0, 0]), 7: array([0, 0, 0, 0, 0, 0]), 8: array([0, 0, 0, 0, 0, 0])}\n"
     ]
    }
   ],
   "source": [
    "# Initialize the QVM and run the program.\n",
    "qc = get_qc(\"9q-generic-qvm\")\n",
    "\n",
    "results = qc.run_and_measure(program, trials=6)\n",
    "print(results)"
   ]
  },
  {
   "cell_type": "code",
   "execution_count": null,
   "metadata": {},
   "outputs": [],
   "source": []
  }
 ],
 "metadata": {
  "kernelspec": {
   "display_name": "Python 3",
   "language": "python",
   "name": "python3"
  },
  "language_info": {
   "codemirror_mode": {
    "name": "ipython",
    "version": 3
   },
   "file_extension": ".py",
   "mimetype": "text/x-python",
   "name": "python",
   "nbconvert_exporter": "python",
   "pygments_lexer": "ipython3",
   "version": "3.6.5"
  }
 },
 "nbformat": 4,
 "nbformat_minor": 2
}
